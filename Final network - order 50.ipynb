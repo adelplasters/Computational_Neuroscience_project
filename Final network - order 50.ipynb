{
 "cells": [
  {
   "cell_type": "code",
   "execution_count": 1,
   "metadata": {},
   "outputs": [
    {
     "name": "stdout",
     "output_type": "stream",
     "text": [
      "NEST HEAD@63efc4393\n"
     ]
    }
   ],
   "source": [
    "import numpy\n",
    "import time\n",
    "import matplotlib.pyplot as plt\n",
    "import os\n",
    "import sys \n",
    "import nest\n",
    "import nest.raster_plot\n",
    "print(nest.version())\n",
    "\n",
    "nest.ResetKernel()\n",
    "startbuild = time.time()"
   ]
  },
  {
   "cell_type": "markdown",
   "metadata": {},
   "source": [
    "#### Definition of normalization functions\n",
    "These functions compute the post-synaptic potential (PSP) based on the neurons' membrane parameters and synaptic decay"
   ]
  },
  {
   "cell_type": "code",
   "execution_count": 2,
   "metadata": {},
   "outputs": [],
   "source": [
    "def LambertWm1(x):\n",
    "    return nest.ll_api.sli_func('LambertWm1', float(x))\n",
    "\n",
    "def ComputePSPNorm(tau_mem, C_mem, tau_syn, is_NMDA = False):\n",
    "    a = (tau_mem / tau_syn)\n",
    "    if is_NMDA:\n",
    "        a *= 5.02\n",
    "    b = (1.0 / tau_syn -1.0 / tau_mem)\n",
    "    t_max = 1.0 / b * (-LambertWm1(-numpy.exp(-1.0/a)/a) - 1.0 / a)\n",
    "    return (numpy.exp(1.0) / (tau_syn * (C_mem * b) * \n",
    "            ((numpy.exp( -t_max / tau_mem) - numpy.exp(-t_max / tau_syn)) / b - \n",
    "            t_max * numpy.exp(-t_max / tau_syn))))"
   ]
  },
  {
   "cell_type": "markdown",
   "metadata": {},
   "source": [
    "#### Assigning the simulation parameters to variables."
   ]
  },
  {
   "cell_type": "code",
   "execution_count": 3,
   "metadata": {},
   "outputs": [],
   "source": [
    "dt = 0.1    # the resolution in ms\n",
    "simtime = 1500.0  # Simulation time in ms\n",
    "\n",
    "delay = 5.0   # synaptic delay in ms\n",
    "delay_GABA = 0.3\n",
    "delay_NMDA = 15.\n",
    "delay_AMPA = 20."
   ]
  },
  {
   "cell_type": "code",
   "execution_count": 4,
   "metadata": {},
   "outputs": [],
   "source": [
    "eta = 0.93 #external rate relative to threshold rate\n",
    "\n",
    "#connection probabilities\n",
    "epsilon_auto = 0.18  # from A to A or B to B\n",
    "epsilon_poptopop = 0.01 #from A to B or B to A\n",
    "epsilon_poptoinh = 0.25 #from A to inh or B to inh\n",
    "epsilon_inhtopop = 0.25 #from inh to A or inh to B\n",
    "epsilon_inhtoinh = 0.1 #from inh to inh"
   ]
  },
  {
   "cell_type": "markdown",
   "metadata": {},
   "source": [
    "Network numerosities "
   ]
  },
  {
   "cell_type": "code",
   "execution_count": 5,
   "metadata": {},
   "outputs": [],
   "source": [
    "order = 50\n",
    "NA = 2 * order  # number of excitatory neurons in pop A\n",
    "NB = 2 * order  # number of excitatory neurons in pop A\n",
    "NI = 1 * order  # number of inhibitory neurons\n",
    "N_neurons = NA + NB + NI   # number of neurons in total\n",
    "N_rec = order * (2+2+1)  # record from all neurons"
   ]
  },
  {
   "cell_type": "markdown",
   "metadata": {},
   "source": [
    "#### Definition of connectivity parameters"
   ]
  },
  {
   "cell_type": "code",
   "execution_count": 6,
   "metadata": {},
   "outputs": [
    {
     "name": "stdout",
     "output_type": "stream",
     "text": [
      "19\n",
      "12\n"
     ]
    }
   ],
   "source": [
    "CE = int(epsilon_auto * NA + epsilon_poptopop * NB)  # number of excitatory synapses per neuron #TODO: synapses per neuron should be NMDA+AMPA\n",
    "CI = int(epsilon_inhtopop * NI)  # number of inhibitory synapses per neuron\n",
    "C_tot = int(CI + CE)      # total number of synapses per neuron\n",
    "\n",
    "print(CE)\n",
    "print(CI)"
   ]
  },
  {
   "cell_type": "markdown",
   "metadata": {},
   "source": [
    "#### Initialization of the parameters of the integrate and fire neurons and synapses. \n"
   ]
  },
  {
   "cell_type": "code",
   "execution_count": 7,
   "metadata": {},
   "outputs": [],
   "source": [
    "nr_ports = 4 # number of receptor types --> noise-related, AMPA, NMDA, GABA\n",
    "tau_syn = [13., 2., 100., 2.]  # [ms] \n",
    "\n",
    "V_membrane = -70.0  # mV \n",
    "V_threshold = -50.0  # mV\n",
    "V_reset = -55.0  # mV "
   ]
  },
  {
   "cell_type": "markdown",
   "metadata": {},
   "source": [
    "Storing the excitatory and inhibitory neurons' parameters in corresponding dictionaries\n",
    "#### Excitatory"
   ]
  },
  {
   "cell_type": "code",
   "execution_count": 8,
   "metadata": {},
   "outputs": [],
   "source": [
    "exc_neuron_params = {\n",
    "    \"E_L\": V_membrane,\n",
    "    \"V_th\": V_threshold,\n",
    "    \"V_reset\": V_reset,\n",
    "    \"C_m\": 500.0,  # pF (0.5nF)\n",
    "    \"tau_m\": 20.0,\n",
    "    \"t_ref\": 2.0, \n",
    "    \"tau_syn\": tau_syn\n",
    "}"
   ]
  },
  {
   "cell_type": "markdown",
   "metadata": {},
   "source": [
    "#### Inhibitory"
   ]
  },
  {
   "cell_type": "code",
   "execution_count": 9,
   "metadata": {},
   "outputs": [],
   "source": [
    "inh_neuron_params = {\n",
    "    \"E_L\": V_membrane,\n",
    "    \"V_th\": V_threshold,\n",
    "    \"V_reset\": V_reset,\n",
    "    \"C_m\": 200.0,  # pF (0.2nF)  \n",
    "    \"tau_m\": 10.0,\n",
    "    \"t_ref\": 1.0,\n",
    "    \"tau_syn\": tau_syn \n",
    "} "
   ]
  },
  {
   "cell_type": "markdown",
   "metadata": {},
   "source": [
    "The synaptic currents are normalized such that the amplitude of the PSP is J and each connection weight is calibrated on the specific neurotransmitter time constant (from Brunel 2001)"
   ]
  },
  {
   "cell_type": "code",
   "execution_count": 10,
   "metadata": {},
   "outputs": [],
   "source": [
    "J = 0.6  # mV\n",
    "\n",
    "J_unit_noise = ComputePSPNorm(20.0, 500.0, tau_syn[0])\n",
    "J_norm_noise = J / J_unit_noise \n",
    "\n",
    "J_unit_AMPA = ComputePSPNorm(20.0, 500.0, 2.0)\n",
    "J_norm_AMPA = J / J_unit_AMPA \n",
    "\n",
    "J_unit_NMDA = ComputePSPNorm(20.0, 500.0, 100.0, is_NMDA=True)\n",
    "J_norm_NMDA = J / J_unit_NMDA \n",
    "\n",
    "J_unit_GABA = ComputePSPNorm(10.0, 200.0, tau_syn[3])\n",
    "J_norm_GABA = J / J_unit_GABA"
   ]
  },
  {
   "cell_type": "markdown",
   "metadata": {},
   "source": [
    "Definition of threshold rate, which is the external rate needed to fix the membrane potential around its threshold, the external firing rate and the rate of the poisson generator which is multiplied by the in-degree CE and converted to Hz by multiplication by 1000."
   ]
  },
  {
   "cell_type": "code",
   "execution_count": 11,
   "metadata": {},
   "outputs": [
    {
     "name": "stdout",
     "output_type": "stream",
     "text": [
      "529.7605781161503\n",
      "423.8084624929203\n",
      "238.39226015226765\n"
     ]
    }
   ],
   "source": [
    "nu_th_noise = (numpy.abs(V_threshold) * 500.0) / (J_norm_noise * CE * numpy.exp(1) * 20.0 * tau_syn[0])\n",
    "nu_ex = eta * nu_th_noise\n",
    "p_rate = 1000.0 * nu_ex * CE\n",
    "\n",
    "nu_th_noise_in = (numpy.abs(V_threshold) * 200.0) / (J_norm_noise * CI * numpy.exp(1) * 10.0 * tau_syn[0])\n",
    "nu_in = eta * nu_th_noise_in\n",
    "p_rate_in = 1000.0 * nu_in * CI\n",
    "print(p_rate)\n",
    "print(p_rate_in)\n",
    "\n",
    "p_rate_stim = p_rate*0.45\n",
    "print(p_rate_stim)"
   ]
  },
  {
   "cell_type": "markdown",
   "metadata": {},
   "source": [
    "Configuration of the simulation kernel by the previously defined time resolution used in the simulation. Setting print_time to True prints the already processed simulation time as well as its percentage of the total simulation time."
   ]
  },
  {
   "cell_type": "code",
   "execution_count": 12,
   "metadata": {},
   "outputs": [],
   "source": [
    "nest.SetKernelStatus({\"resolution\": dt, \"print_time\": True,\n",
    "                      \"overwrite_files\": True})"
   ]
  },
  {
   "cell_type": "markdown",
   "metadata": {},
   "source": [
    "### Building the network\n",
    "Creation of the nodes using Create. We store the returned handles in variables for later reference. Here the excitatory and inhibitory, as well as the poisson generator and three spike recorders. The spike recorders will later be used to record excitatory and inhibitory spikes. Properties of the nodes are specified via SetDefaults, which expects a dictionary."
   ]
  },
  {
   "cell_type": "code",
   "execution_count": 13,
   "metadata": {},
   "outputs": [],
   "source": [
    "nest.SetDefaults(\"iaf_psc_exp_multisynapse\", exc_neuron_params)\n",
    "pop_A = nest.Create(\"iaf_psc_exp_multisynapse\", NA)\n",
    "pop_B = nest.Create(\"iaf_psc_exp_multisynapse\", NB)\n",
    "\n",
    "nest.SetDefaults(\"iaf_psc_exp_multisynapse\", inh_neuron_params)\n",
    "pop_inh = nest.Create(\"iaf_psc_exp_multisynapse\", NI)\n",
    "\n",
    "nest.SetDefaults(\"poisson_generator\", {\"rate\": p_rate})\n",
    "PG_noise = nest.Create(\"poisson_generator\")\n",
    "\n",
    "nest.SetDefaults(\"poisson_generator\", {\"rate\": p_rate_in})\n",
    "PG_noise_in = nest.Create(\"poisson_generator\")\n",
    "\n",
    "params_stim = {\"rate\": p_rate_stim, \"start\": 250.0, \"stop\": 650.0}\n",
    "nest.SetDefaults(\"poisson_generator\", params_stim)\n",
    "stimulation = nest.Create(\"poisson_generator\")\n",
    "\n",
    "spikes_a = nest.Create(\"spike_detector\")\n",
    "spikes_b = nest.Create(\"spike_detector\")\n",
    "spikes_i = nest.Create(\"spike_detector\")"
   ]
  },
  {
   "cell_type": "markdown",
   "metadata": {},
   "source": [
    "#### Assign NEST-related details to populations"
   ]
  },
  {
   "cell_type": "code",
   "execution_count": 14,
   "metadata": {},
   "outputs": [],
   "source": [
    "nest.SetStatus(spikes_a, [{\"label\": \"Exc. pop. A\",\n",
    "                          \"withtime\": True,\n",
    "                          \"withgid\": True,\n",
    "                          \"to_file\": True}])\n",
    "\n",
    "nest.SetStatus(spikes_b, [{\"label\": \"Exc. pop. B\",\n",
    "                          \"withtime\": True,\n",
    "                          \"withgid\": True,\n",
    "                          \"to_file\": True}])\n",
    "\n",
    "nest.SetStatus(spikes_i, [{\"label\": \"Inh. pop.\",\n",
    "                          \"withtime\": True,\n",
    "                          \"withgid\": True,\n",
    "                          \"to_file\": True}])"
   ]
  },
  {
   "cell_type": "markdown",
   "metadata": {},
   "source": [
    "### Synapse model definition\n",
    "Definition of a synapse using CopyModel, which expects the model name of a pre-defined synapse, the name of the customary synapse and an optional parameter dictionary. The parameters defined in the dictionary will be the default parameter for the customary synapse. Here we define one synapse for the excitatory and one for the inhibitory connections giving the previously defined weights and equal delays."
   ]
  },
  {
   "cell_type": "code",
   "execution_count": 15,
   "metadata": {},
   "outputs": [],
   "source": [
    "nest.CopyModel(\"static_synapse\", \"excitatory_AMPA\",\n",
    "               {\"weight\": J_norm_AMPA, \"delay\": delay_AMPA})\n",
    "nest.CopyModel(\"static_synapse\", \"excitatory_NMDA\",\n",
    "               {\"weight\": J_norm_NMDA, \"delay\": delay_NMDA})\n",
    "nest.CopyModel(\"static_synapse\", \"noise_syn\",\n",
    "               {\"weight\": J_norm_noise, \"delay\": delay})\n",
    "nest.CopyModel(\"static_synapse\", \"inhibitory\",\n",
    "               {\"weight\": -J_norm_GABA, \"delay\": delay_GABA})"
   ]
  },
  {
   "cell_type": "markdown",
   "metadata": {},
   "source": [
    "Assign the corresponding receptor type to each of the synapses models defined above "
   ]
  },
  {
   "cell_type": "code",
   "execution_count": 16,
   "metadata": {},
   "outputs": [],
   "source": [
    "noise_syn = {\"model\": \"noise_syn\",\n",
    "                 \"receptor_type\": 1}\n",
    "AMPA_syn = {\"model\": \"excitatory_AMPA\",\n",
    "                 \"receptor_type\": 2}\n",
    "NMDA_syn = {\"model\": \"excitatory_NMDA\",\n",
    "                 \"receptor_type\": 3}\n",
    "GABA_syn = {\"model\": \"inhibitory\",\n",
    "                 \"receptor_type\": 4}"
   ]
  },
  {
   "cell_type": "markdown",
   "metadata": {},
   "source": [
    "### Connecting Devices\n",
    "Connecting the previously defined poisson generator to the excitatory and inhibitory neurons using the excitatory synapse. Since the poisson generator is connected to all neurons in the population the default rule (all_to_all) of Connect is used. The synaptic properties are inserted via syn_spec which expects a dictionary when defining multiple variables or a string when simply using a pre-defined synapse."
   ]
  },
  {
   "cell_type": "code",
   "execution_count": 17,
   "metadata": {},
   "outputs": [],
   "source": [
    "#External noise to populations\n",
    "nest.Connect(PG_noise, pop_A, syn_spec=noise_syn)\n",
    "nest.Connect(PG_noise, pop_B, syn_spec=noise_syn)\n",
    "nest.Connect(PG_noise_in, pop_inh, syn_spec=noise_syn)\n",
    "#Recording devices\n",
    "nest.Connect(pop_A, spikes_a)\n",
    "nest.Connect(pop_B, spikes_b)\n",
    "nest.Connect(pop_inh, spikes_i)"
   ]
  },
  {
   "cell_type": "code",
   "execution_count": 18,
   "metadata": {},
   "outputs": [],
   "source": [
    "#Stimulus Insertion\n",
    "nest.Connect(stimulation, pop_A, syn_spec = noise_syn)"
   ]
  },
  {
   "cell_type": "markdown",
   "metadata": {},
   "source": [
    "### Connecting Network\n",
    "Connecting the <b>excitatory population</b>  to all neurons using the pre-defined excitatory synapse. Beforehand, the connection parameter are defined in a dictionary. Here we use the connection rule pairwise_bernoulli, which requires the connection probabilities of having a synapse between two population. Since the synapse specification is reduced to assigning the pre-defined excitatory synapse it suffices to insert a string."
   ]
  },
  {
   "cell_type": "markdown",
   "metadata": {},
   "source": [
    "#### Population A"
   ]
  },
  {
   "cell_type": "code",
   "execution_count": 19,
   "metadata": {},
   "outputs": [],
   "source": [
    "# Recurrent\n",
    "conn_params_auto = {'rule': 'pairwise_bernoulli', 'p': epsilon_auto}\n",
    "nest.Connect(pop_A, pop_A, conn_params_auto, AMPA_syn)\n",
    "nest.Connect(pop_A, pop_A, conn_params_auto, NMDA_syn)\n",
    "\n",
    "# To pop B\n",
    "conn_params_poptopop = {'rule': 'pairwise_bernoulli', 'p': epsilon_poptopop}\n",
    "nest.Connect(pop_A, pop_B, conn_params_poptopop, AMPA_syn)\n",
    "nest.Connect(pop_A, pop_B, conn_params_poptopop, NMDA_syn)\n",
    "\n",
    "# To pop inh.\n",
    "conn_params_poptoinh = {'rule': 'pairwise_bernoulli', 'p': epsilon_poptoinh}\n",
    "nest.Connect(pop_A, pop_inh, conn_params_poptoinh, AMPA_syn)\n",
    "nest.Connect(pop_A, pop_inh, conn_params_poptoinh, NMDA_syn)"
   ]
  },
  {
   "cell_type": "markdown",
   "metadata": {},
   "source": [
    "#### Population B"
   ]
  },
  {
   "cell_type": "code",
   "execution_count": 20,
   "metadata": {},
   "outputs": [],
   "source": [
    "# Recurrent\n",
    "\n",
    "nest.Connect(pop_B, pop_B, conn_params_auto, AMPA_syn)\n",
    "nest.Connect(pop_B, pop_B, conn_params_auto, NMDA_syn)\n",
    "\n",
    "# To pop A\n",
    "nest.Connect(pop_B, pop_A, conn_params_poptopop, AMPA_syn)\n",
    "nest.Connect(pop_B, pop_A, conn_params_poptopop, NMDA_syn)\n",
    "\n",
    "# To pop inh.\n",
    "\n",
    "nest.Connect(pop_B, pop_inh, conn_params_poptoinh, AMPA_syn)\n",
    "nest.Connect(pop_B, pop_inh, conn_params_poptoinh, NMDA_syn)"
   ]
  },
  {
   "cell_type": "markdown",
   "metadata": {},
   "source": [
    "Connecting the <b>inhibitory population</b> to all neurons using the pre-defined inhibitory synapse. The connection parameter as well as the synapse parameter are defined analogously to the connection from the excitatory population defined above."
   ]
  },
  {
   "cell_type": "markdown",
   "metadata": {},
   "source": [
    "#### Inhibitory population"
   ]
  },
  {
   "cell_type": "code",
   "execution_count": 21,
   "metadata": {},
   "outputs": [],
   "source": [
    "# Recurrent\n",
    "conn_params_inhtoinh = {'rule': 'pairwise_bernoulli', 'p': epsilon_inhtoinh}\n",
    "nest.Connect(pop_inh, pop_inh, conn_params_inhtoinh, GABA_syn)\n",
    "\n",
    "# To pop A\n",
    "conn_params_inhtopop = {'rule': 'pairwise_bernoulli', 'p': epsilon_inhtopop}\n",
    "nest.Connect(pop_inh, pop_A, conn_params_inhtopop, GABA_syn)\n",
    "\n",
    "# To pop B\n",
    "nest.Connect(pop_inh, pop_B, conn_params_inhtopop, GABA_syn)"
   ]
  },
  {
   "cell_type": "markdown",
   "metadata": {},
   "source": [
    "### Simulation of the network."
   ]
  },
  {
   "cell_type": "code",
   "execution_count": 22,
   "metadata": {},
   "outputs": [
    {
     "name": "stdout",
     "output_type": "stream",
     "text": [
      "Simulating\n"
     ]
    }
   ],
   "source": [
    "endbuild = time.time() # Storage of the time point after the buildup of the network in a variable.\n",
    "print(\"Simulating\")\n",
    "nest.Simulate(simtime)\n",
    "endsimulate = time.time() # Storage of the time point after the simulation of the network in a variable."
   ]
  },
  {
   "cell_type": "code",
   "execution_count": 23,
   "metadata": {},
   "outputs": [],
   "source": [
    "# Reading out the total number of spikes received from the spike recorder connected to \n",
    "# the excitatory population and the inhibitory population.\n",
    "events_ex_a = nest.GetStatus(spikes_a, \"n_events\")[0]\n",
    "events_ex_b = nest.GetStatus(spikes_b, \"n_events\")[0]\n",
    "events_in = nest.GetStatus(spikes_i, \"n_events\")[0]\n",
    "\n",
    "# Calculation of the average firing rate of the excitatory and the inhibitory neurons \n",
    "# by dividing the total number of recorded spikes by the number of neurons recorded from and the simulation time. \n",
    "# The multiplication by 1000.0 converts the unit 1/ms to 1/s=Hz.\n",
    "rate_ex_a = events_ex_a / simtime * 1000.0 / NA\n",
    "rate_ex_b = events_ex_b / simtime * 1000.0 / NB\n",
    "rate_in = events_in / simtime * 1000.0 / NI\n",
    "\n",
    "# Reading out the number of connections established using the excitatory and inhibitory synapse model. \n",
    "# The numbers are summed up resulting in the total number of synapses.\n",
    "num_synapses = (nest.GetDefaults(\"excitatory_AMPA\")[\"num_connections\"] +\n",
    "                nest.GetDefaults(\"excitatory_NMDA\")[\"num_connections\"] +\n",
    "                nest.GetDefaults(\"inhibitory\")[\"num_connections\"])"
   ]
  },
  {
   "cell_type": "code",
   "execution_count": 24,
   "metadata": {},
   "outputs": [
    {
     "name": "stdout",
     "output_type": "stream",
     "text": [
      "Excitatory rate A  : 54.95 Hz\n",
      "Excitatory rate B  : 2.85 Hz\n",
      "Inhibitory rate   : 189.97 Hz\n",
      "Building time     : 0.38 s\n",
      "Simulation time   : 0.47 s\n"
     ]
    }
   ],
   "source": [
    "# Establishing the time it took to build and simulate the network by taking the difference of \n",
    "# the pre-defined time variables.\n",
    "build_time = endbuild - startbuild\n",
    "sim_time = endsimulate - endbuild\n",
    "# Printing the network properties, firing rates and building times.\n",
    "print(\"Excitatory rate A  : %.2f Hz\" % rate_ex_a)\n",
    "print(\"Excitatory rate B  : %.2f Hz\" % rate_ex_b)\n",
    "print(\"Inhibitory rate   : %.2f Hz\" % rate_in)\n",
    "print(\"Building time     : %.2f s\" % build_time)\n",
    "print(\"Simulation time   : %.2f s\" % sim_time)"
   ]
  },
  {
   "cell_type": "markdown",
   "metadata": {},
   "source": [
    "### Plot network activity\n",
    "Plot a raster of the neurons and a histogram (excitatory:from 1 to 800; inhibitory: from 801 to 1000)"
   ]
  },
  {
   "cell_type": "code",
   "execution_count": 25,
   "metadata": {},
   "outputs": [
    {
     "data": {
      "image/png": "[encoded data removed]",
      "text/plain": [
       "<Figure size 432x288 with 2 Axes>"
      ]
     },
     "metadata": {
      "needs_background": "light"
     },
     "output_type": "display_data"
    },
    {
     "data": {
      "image/png": "[encoded data removed]",
      "text/plain": [
       "<Figure size 432x288 with 2 Axes>"
      ]
     },
     "metadata": {
      "needs_background": "light"
     },
     "output_type": "display_data"
    },
    {
     "data": {
      "image/png": "[encoded data removed]",
      "text/plain": [
       "<Figure size 432x288 with 2 Axes>"
      ]
     },
     "metadata": {
      "needs_background": "light"
     },
     "output_type": "display_data"
    }
   ],
   "source": [
    "nest.raster_plot.from_device(spikes_a, hist=True, hist_binwidth=5.)\n",
    "nest.raster_plot.from_device(spikes_b, hist=True, hist_binwidth=5.)\n",
    "nest.raster_plot.from_device(spikes_i, hist=True, hist_binwidth=5.)\n",
    "plt.show()"
   ]
  },
  {
   "cell_type": "code",
   "execution_count": null,
   "metadata": {},
   "outputs": [],
   "source": []
  }
 ],
 "metadata": {
  "kernelspec": {
   "display_name": "Python 3",
   "language": "python",
   "name": "python3"
  },
  "language_info": {
   "codemirror_mode": {
    "name": "ipython",
    "version": 3
   },
   "file_extension": ".py",
   "mimetype": "text/x-python",
   "name": "python",
   "nbconvert_exporter": "python",
   "pygments_lexer": "ipython3",
   "version": "3.8.5"
  }
 },
 "nbformat": 4,
 "nbformat_minor": 4
}
